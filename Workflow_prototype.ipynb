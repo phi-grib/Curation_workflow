{
 "cells": [
  {
   "cell_type": "code",
   "execution_count": 1,
   "metadata": {},
   "outputs": [],
   "source": [
    "import pandas as pd\n",
    "\n",
    "from curate.chem import chembl_extraction"
   ]
  },
  {
   "cell_type": "markdown",
   "metadata": {},
   "source": [
    "#### Warning disable\n",
    "We are getting rid of warnings for visualization purposes.\n",
    "RDKit warnings require a special function besides jupyter notebook code."
   ]
  },
  {
   "cell_type": "code",
   "execution_count": 2,
   "metadata": {},
   "outputs": [],
   "source": [
    "import warnings\n",
    "warnings.filterwarnings('ignore')"
   ]
  },
  {
   "cell_type": "code",
   "execution_count": 3,
   "metadata": {},
   "outputs": [],
   "source": [
    "from rdkit import RDLogger\n",
    "from rdkit.rdBase import DisableLog\n",
    "\n",
    "for level in RDLogger._levels:\n",
    "    DisableLog(level)"
   ]
  },
  {
   "cell_type": "markdown",
   "metadata": {},
   "source": [
    "## STEP 1: use list of ChEMBL IDs to extract data from ChEMBL"
   ]
  },
  {
   "cell_type": "code",
   "execution_count": 4,
   "metadata": {},
   "outputs": [],
   "source": [
    "chembl_list = pd.read_excel('chemtest_complex.xlsx')"
   ]
  },
  {
   "cell_type": "code",
   "execution_count": 5,
   "metadata": {},
   "outputs": [
    {
     "data": {
      "text/html": [
       "<div>\n",
       "<style scoped>\n",
       "    .dataframe tbody tr th:only-of-type {\n",
       "        vertical-align: middle;\n",
       "    }\n",
       "\n",
       "    .dataframe tbody tr th {\n",
       "        vertical-align: top;\n",
       "    }\n",
       "\n",
       "    .dataframe thead th {\n",
       "        text-align: right;\n",
       "    }\n",
       "</style>\n",
       "<table border=\"1\" class=\"dataframe\">\n",
       "  <thead>\n",
       "    <tr style=\"text-align: right;\">\n",
       "      <th></th>\n",
       "      <th>chembl_id</th>\n",
       "      <th>dummy1</th>\n",
       "      <th>dummy2</th>\n",
       "    </tr>\n",
       "  </thead>\n",
       "  <tbody>\n",
       "    <tr>\n",
       "      <th>0</th>\n",
       "      <td>CHEMBL230</td>\n",
       "      <td>dc11</td>\n",
       "      <td>dc12</td>\n",
       "    </tr>\n",
       "    <tr>\n",
       "      <th>1</th>\n",
       "      <td>CHEMBL25</td>\n",
       "      <td>dc21</td>\n",
       "      <td>dc22</td>\n",
       "    </tr>\n",
       "    <tr>\n",
       "      <th>2</th>\n",
       "      <td>CHEMBL4523582</td>\n",
       "      <td>dc31</td>\n",
       "      <td>dc32</td>\n",
       "    </tr>\n",
       "    <tr>\n",
       "      <th>3</th>\n",
       "      <td>CHEMBL3616356</td>\n",
       "      <td>dc41</td>\n",
       "      <td>dc42</td>\n",
       "    </tr>\n",
       "  </tbody>\n",
       "</table>\n",
       "</div>"
      ],
      "text/plain": [
       "       chembl_id dummy1 dummy2\n",
       "0      CHEMBL230   dc11   dc12\n",
       "1       CHEMBL25   dc21   dc22\n",
       "2  CHEMBL4523582   dc31   dc32\n",
       "3  CHEMBL3616356   dc41   dc42"
      ]
     },
     "execution_count": 5,
     "metadata": {},
     "output_type": "execute_result"
    }
   ],
   "source": [
    "chembl_list"
   ]
  },
  {
   "cell_type": "code",
   "execution_count": 6,
   "metadata": {},
   "outputs": [],
   "source": [
    "concatenated_chembl_target_compounds, warning = chembl_extraction.concatenate_dataframes_from_different_chembl_ids(chembl_list)"
   ]
  },
  {
   "cell_type": "code",
   "execution_count": 7,
   "metadata": {},
   "outputs": [
    {
     "data": {
      "text/html": [
       "<div>\n",
       "<style scoped>\n",
       "    .dataframe tbody tr th:only-of-type {\n",
       "        vertical-align: middle;\n",
       "    }\n",
       "\n",
       "    .dataframe tbody tr th {\n",
       "        vertical-align: top;\n",
       "    }\n",
       "\n",
       "    .dataframe thead th {\n",
       "        text-align: right;\n",
       "    }\n",
       "</style>\n",
       "<table border=\"1\" class=\"dataframe\">\n",
       "  <thead>\n",
       "    <tr style=\"text-align: right;\">\n",
       "      <th></th>\n",
       "      <th>assay_description</th>\n",
       "      <th>molecule_chembl_id</th>\n",
       "      <th>molecule_pref_name</th>\n",
       "      <th>canonical_smiles</th>\n",
       "      <th>pchembl_value</th>\n",
       "      <th>standard_type</th>\n",
       "      <th>standard_relation</th>\n",
       "      <th>standard_value</th>\n",
       "      <th>standard_units</th>\n",
       "      <th>target_pref_name</th>\n",
       "      <th>target_organism</th>\n",
       "      <th>chembl_id</th>\n",
       "    </tr>\n",
       "  </thead>\n",
       "  <tbody>\n",
       "    <tr>\n",
       "      <th>0</th>\n",
       "      <td>Inhibition of PGE-2 production by arachidonic ...</td>\n",
       "      <td>CHEMBL91832</td>\n",
       "      <td>None</td>\n",
       "      <td>CC1(C)C(=O)C(c2ccc(F)cc2)=C1c1ccc(S(C)(=O)=O)cc1</td>\n",
       "      <td>8.30</td>\n",
       "      <td>IC50</td>\n",
       "      <td>=</td>\n",
       "      <td>5.0</td>\n",
       "      <td>nM</td>\n",
       "      <td>Cyclooxygenase-2</td>\n",
       "      <td>Homo sapiens</td>\n",
       "      <td>CHEMBL230</td>\n",
       "    </tr>\n",
       "    <tr>\n",
       "      <th>1</th>\n",
       "      <td>Inhibition of PGE-2 production by arachidonic ...</td>\n",
       "      <td>CHEMBL91118</td>\n",
       "      <td>None</td>\n",
       "      <td>C=C1CC(c2ccc(S(C)(=O)=O)cc2)=C1c1ccccc1</td>\n",
       "      <td>8.92</td>\n",
       "      <td>IC50</td>\n",
       "      <td>=</td>\n",
       "      <td>1.2</td>\n",
       "      <td>nM</td>\n",
       "      <td>Cyclooxygenase-2</td>\n",
       "      <td>Homo sapiens</td>\n",
       "      <td>CHEMBL230</td>\n",
       "    </tr>\n",
       "    <tr>\n",
       "      <th>2</th>\n",
       "      <td>Inhibition of PGE-2 production by arachidonic ...</td>\n",
       "      <td>CHEMBL92443</td>\n",
       "      <td>None</td>\n",
       "      <td>C=C1C(c2ccccc2)=C(c2ccc(S(C)(=O)=O)cc2)C1(C)C</td>\n",
       "      <td>8.66</td>\n",
       "      <td>IC50</td>\n",
       "      <td>=</td>\n",
       "      <td>2.2</td>\n",
       "      <td>nM</td>\n",
       "      <td>Cyclooxygenase-2</td>\n",
       "      <td>Homo sapiens</td>\n",
       "      <td>CHEMBL230</td>\n",
       "    </tr>\n",
       "    <tr>\n",
       "      <th>3</th>\n",
       "      <td>Inhibition of PGE-2 production by arachidonic ...</td>\n",
       "      <td>CHEMBL328003</td>\n",
       "      <td>None</td>\n",
       "      <td>CS(=O)(=O)c1ccc(C2=C(c3ccccc3)C(=O)C2)cc1</td>\n",
       "      <td>6.96</td>\n",
       "      <td>IC50</td>\n",
       "      <td>=</td>\n",
       "      <td>110.0</td>\n",
       "      <td>nM</td>\n",
       "      <td>Cyclooxygenase-2</td>\n",
       "      <td>Homo sapiens</td>\n",
       "      <td>CHEMBL230</td>\n",
       "    </tr>\n",
       "    <tr>\n",
       "      <th>4</th>\n",
       "      <td>Inhibition of PGE-2 production by arachidonic ...</td>\n",
       "      <td>CHEMBL330516</td>\n",
       "      <td>None</td>\n",
       "      <td>CC1(C)C(c2ccc(S(C)(=O)=O)cc2)=C(c2ccccc2)/C1=N/O</td>\n",
       "      <td>7.21</td>\n",
       "      <td>IC50</td>\n",
       "      <td>=</td>\n",
       "      <td>61.0</td>\n",
       "      <td>nM</td>\n",
       "      <td>Cyclooxygenase-2</td>\n",
       "      <td>Homo sapiens</td>\n",
       "      <td>CHEMBL230</td>\n",
       "    </tr>\n",
       "  </tbody>\n",
       "</table>\n",
       "</div>"
      ],
      "text/plain": [
       "                                   assay_description molecule_chembl_id  \\\n",
       "0  Inhibition of PGE-2 production by arachidonic ...        CHEMBL91832   \n",
       "1  Inhibition of PGE-2 production by arachidonic ...        CHEMBL91118   \n",
       "2  Inhibition of PGE-2 production by arachidonic ...        CHEMBL92443   \n",
       "3  Inhibition of PGE-2 production by arachidonic ...       CHEMBL328003   \n",
       "4  Inhibition of PGE-2 production by arachidonic ...       CHEMBL330516   \n",
       "\n",
       "  molecule_pref_name                                  canonical_smiles  \\\n",
       "0               None  CC1(C)C(=O)C(c2ccc(F)cc2)=C1c1ccc(S(C)(=O)=O)cc1   \n",
       "1               None           C=C1CC(c2ccc(S(C)(=O)=O)cc2)=C1c1ccccc1   \n",
       "2               None     C=C1C(c2ccccc2)=C(c2ccc(S(C)(=O)=O)cc2)C1(C)C   \n",
       "3               None         CS(=O)(=O)c1ccc(C2=C(c3ccccc3)C(=O)C2)cc1   \n",
       "4               None  CC1(C)C(c2ccc(S(C)(=O)=O)cc2)=C(c2ccccc2)/C1=N/O   \n",
       "\n",
       "  pchembl_value standard_type standard_relation standard_value standard_units  \\\n",
       "0          8.30          IC50                 =            5.0             nM   \n",
       "1          8.92          IC50                 =            1.2             nM   \n",
       "2          8.66          IC50                 =            2.2             nM   \n",
       "3          6.96          IC50                 =          110.0             nM   \n",
       "4          7.21          IC50                 =           61.0             nM   \n",
       "\n",
       "   target_pref_name target_organism  chembl_id  \n",
       "0  Cyclooxygenase-2    Homo sapiens  CHEMBL230  \n",
       "1  Cyclooxygenase-2    Homo sapiens  CHEMBL230  \n",
       "2  Cyclooxygenase-2    Homo sapiens  CHEMBL230  \n",
       "3  Cyclooxygenase-2    Homo sapiens  CHEMBL230  \n",
       "4  Cyclooxygenase-2    Homo sapiens  CHEMBL230  "
      ]
     },
     "execution_count": 7,
     "metadata": {},
     "output_type": "execute_result"
    }
   ],
   "source": [
    "concatenated_chembl_target_compounds.head()"
   ]
  },
  {
   "cell_type": "markdown",
   "metadata": {},
   "source": [
    "## Step 2: curate the data structures"
   ]
  },
  {
   "cell_type": "code",
   "execution_count": 8,
   "metadata": {},
   "outputs": [],
   "source": [
    "def curate_data(dataframe, structure_column, remove_problematic=False) -> pd.DataFrame:\n",
    "    \"\"\"\n",
    "        Check SMILES column to get a curated SMILES and the type of substance.\n",
    "\n",
    "        :return curated_data: dataframe containing the curated information\n",
    "    \"\"\"\n",
    "\n",
    "    from curate.chem import structure_curation as cur\n",
    "    data_cur = cur.Curator()\n",
    "\n",
    "    curated_data = dataframe\n",
    "\n",
    "    for i, row in curated_data.iterrows():\n",
    "        smi = row[structure_column]\n",
    "        data_cur.get_rdkit_mol(smi)\n",
    "        sub_type, san_smi = data_cur.filter_smiles()\n",
    "        curated_data.loc[curated_data.index == i,'structure_curated'] = san_smi\n",
    "        curated_data.loc[curated_data.index == i,'substance_type_name'] = sub_type\n",
    "\n",
    "    if remove_problematic:\n",
    "        curated_data, problematic_structures = remove_problematic_structures(curated_data)\n",
    "    \n",
    "    return curated_data\n",
    "\n",
    "def remove_problematic_structures(dataframe) -> pd.DataFrame:\n",
    "    \"\"\"\n",
    "        Remove problematic structures from main dataset.\n",
    "        Returns cleaned dataset and problematic structures a part.\n",
    "\n",
    "        :param data: input data to be cleaned\n",
    "\n",
    "        :return curated_data: data without problematic structures\n",
    "        :return problematic_structures: data with the problematic structures\n",
    "    \"\"\"\n",
    "\n",
    "    problem_struc_list =  ['organometallic', 'no_sanitizable', 'inorganic_salt', \n",
    "                          'inorganic', 'inorganic_metal', 'no_sanitizable_organic',\n",
    "                          'no_sanitizable_inorganic', 'no_sanitizable_organometallic']\n",
    "\n",
    "    curated_data = dataframe.loc[~dataframe['substance_type_name'].isin(problem_struc_list)]\n",
    "    problematic_structures = dataframe.loc[dataframe['substance_type_name'].isin(problem_struc_list)]\n",
    "\n",
    "    return curated_data, problematic_structures"
   ]
  },
  {
   "cell_type": "code",
   "execution_count": 9,
   "metadata": {},
   "outputs": [],
   "source": [
    "curdata = curate_data(concatenated_chembl_target_compounds, 'canonical_smiles',remove_problematic=True)"
   ]
  },
  {
   "cell_type": "markdown",
   "metadata": {},
   "source": [
    "## Step 3: split dataframe in the initial ChEMBL IDs and create one sdf for each"
   ]
  },
  {
   "cell_type": "code",
   "execution_count": 10,
   "metadata": {},
   "outputs": [],
   "source": [
    "from curate.util import utils\n",
    "from rdkit import Chem\n",
    "from rdkit.Chem import Descriptors"
   ]
  },
  {
   "cell_type": "code",
   "execution_count": 11,
   "metadata": {},
   "outputs": [],
   "source": [
    "for i, row in curdata.iterrows():\n",
    "    smiles = row['structure_curated']\n",
    "    m = Chem.MolFromSmiles(smiles)\n",
    "    logp = Descriptors.MolLogP(m)\n",
    "    mol_weight = Descriptors.MolWt(m)\n",
    "    num_heavy_atoms = Descriptors.HeavyAtomCount(m)\n",
    "    curdata.loc[curdata.index == i, 'logP'] = logp\n",
    "    curdata.loc[curdata.index == i, 'MW'] = mol_weight\n",
    "    curdata.loc[curdata.index == i, 'heavy_atoms'] = num_heavy_atoms"
   ]
  },
  {
   "cell_type": "code",
   "execution_count": 12,
   "metadata": {},
   "outputs": [],
   "source": [
    "chembl_ids = curdata.chembl_id.unique()"
   ]
  },
  {
   "cell_type": "code",
   "execution_count": 13,
   "metadata": {},
   "outputs": [
    {
     "name": "stdout",
     "output_type": "stream",
     "text": [
      "2524 2185\n",
      "2524 98\n",
      "2524 2\n"
     ]
    }
   ],
   "source": [
    "for chembl_id in chembl_ids:\n",
    "    df_ = curdata.loc[(curdata['chembl_id'] == chembl_id) &\n",
    "                     (curdata['MW'] <= 500) &\n",
    "                     (curdata['MW'] > 100)]\n",
    "    print(len(curdata), len(df_))\n",
    "    utils.write_sdf(data=df_, outfile_name=chembl_id, smiles_column='structure_curated', identifier='molecule_chembl_id')"
   ]
  }
 ],
 "metadata": {
  "kernelspec": {
   "display_name": "Python 3",
   "language": "python",
   "name": "python3"
  },
  "language_info": {
   "codemirror_mode": {
    "name": "ipython",
    "version": 3
   },
   "file_extension": ".py",
   "mimetype": "text/x-python",
   "name": "python",
   "nbconvert_exporter": "python",
   "pygments_lexer": "ipython3",
   "version": "3.6.13"
  }
 },
 "nbformat": 4,
 "nbformat_minor": 4
}
