{
 "cells": [
  {
   "cell_type": "markdown",
   "metadata": {},
   "source": [
    "<b>[Author]</b> Eric March Vila<br>\n",
    "<b>[Organisation]</b> Universitat Pompeu Fabra<br>\n",
    "<b>[Year]</b> 2022"
   ]
  },
  {
   "cell_type": "code",
   "execution_count": 1,
   "metadata": {},
   "outputs": [],
   "source": [
    "import pandas as pd\n",
    "\n",
    "from curate.chem import chembl_extraction"
   ]
  },
  {
   "cell_type": "markdown",
   "metadata": {},
   "source": [
    "#### Warning disable\n",
    "We are getting rid of warnings for visualization purposes.\n",
    "RDKit warnings require a special function besides jupyter notebook code."
   ]
  },
  {
   "cell_type": "code",
   "execution_count": 2,
   "metadata": {},
   "outputs": [],
   "source": [
    "import warnings\n",
    "warnings.filterwarnings('ignore')"
   ]
  },
  {
   "cell_type": "code",
   "execution_count": 3,
   "metadata": {},
   "outputs": [],
   "source": [
    "from rdkit import RDLogger\n",
    "from rdkit.rdBase import DisableLog\n",
    "\n",
    "for level in RDLogger._levels:\n",
    "    DisableLog(level)"
   ]
  },
  {
   "cell_type": "markdown",
   "metadata": {},
   "source": [
    "## STEP 1: use list of ChEMBL IDs to extract data from ChEMBL"
   ]
  },
  {
   "cell_type": "code",
   "execution_count": 4,
   "metadata": {},
   "outputs": [],
   "source": [
    "chembl_list = pd.read_excel('ED_targets.xlsx')"
   ]
  },
  {
   "cell_type": "code",
   "execution_count": 5,
   "metadata": {},
   "outputs": [
    {
     "data": {
      "text/html": [
       "<div>\n",
       "<style scoped>\n",
       "    .dataframe tbody tr th:only-of-type {\n",
       "        vertical-align: middle;\n",
       "    }\n",
       "\n",
       "    .dataframe tbody tr th {\n",
       "        vertical-align: top;\n",
       "    }\n",
       "\n",
       "    .dataframe thead th {\n",
       "        text-align: right;\n",
       "    }\n",
       "</style>\n",
       "<table border=\"1\" class=\"dataframe\">\n",
       "  <thead>\n",
       "    <tr style=\"text-align: right;\">\n",
       "      <th></th>\n",
       "      <th>chembl_id</th>\n",
       "      <th>name</th>\n",
       "      <th>type</th>\n",
       "      <th>species</th>\n",
       "      <th>activity thresholds</th>\n",
       "    </tr>\n",
       "  </thead>\n",
       "  <tbody>\n",
       "    <tr>\n",
       "      <th>0</th>\n",
       "      <td>CHEMBL1871</td>\n",
       "      <td>androgen receptor</td>\n",
       "      <td>single protein</td>\n",
       "      <td>homo sapiens</td>\n",
       "      <td>Nuclear receptor (&lt;= 100nM)</td>\n",
       "    </tr>\n",
       "    <tr>\n",
       "      <th>1</th>\n",
       "      <td>CHEMBL242</td>\n",
       "      <td>estrogen receptor beta</td>\n",
       "      <td>single protein</td>\n",
       "      <td>homo sapiens</td>\n",
       "      <td>Nuclear receptor (&lt;= 100nM)</td>\n",
       "    </tr>\n",
       "    <tr>\n",
       "      <th>2</th>\n",
       "      <td>CHEMBL206</td>\n",
       "      <td>estrogen receptor alfa</td>\n",
       "      <td>single protein</td>\n",
       "      <td>homo sapiens</td>\n",
       "      <td>Nuclear receptor (&lt;= 100nM)</td>\n",
       "    </tr>\n",
       "    <tr>\n",
       "      <th>3</th>\n",
       "      <td>CHEMBL1860</td>\n",
       "      <td>thyroid receptor alpha</td>\n",
       "      <td>single protein</td>\n",
       "      <td>homo sapiens</td>\n",
       "      <td>Nuclear receptor (&lt;= 100nM)</td>\n",
       "    </tr>\n",
       "    <tr>\n",
       "      <th>4</th>\n",
       "      <td>CHEMBL1947</td>\n",
       "      <td>thyroid receptor beta 1</td>\n",
       "      <td>single protein</td>\n",
       "      <td>homo sapiens</td>\n",
       "      <td>Nuclear receptor (&lt;= 100nM)</td>\n",
       "    </tr>\n",
       "    <tr>\n",
       "      <th>5</th>\n",
       "      <td>CHEMBL2034</td>\n",
       "      <td>glucocorticoid receptor</td>\n",
       "      <td>single protein</td>\n",
       "      <td>homo sapiens</td>\n",
       "      <td>Nuclear receptor (&lt;= 100nM)</td>\n",
       "    </tr>\n",
       "  </tbody>\n",
       "</table>\n",
       "</div>"
      ],
      "text/plain": [
       "    chembl_id                     name            type       species  \\\n",
       "0  CHEMBL1871        androgen receptor  single protein  homo sapiens   \n",
       "1   CHEMBL242   estrogen receptor beta  single protein  homo sapiens   \n",
       "2   CHEMBL206   estrogen receptor alfa  single protein  homo sapiens   \n",
       "3  CHEMBL1860   thyroid receptor alpha  single protein  homo sapiens   \n",
       "4  CHEMBL1947  thyroid receptor beta 1  single protein  homo sapiens   \n",
       "5  CHEMBL2034  glucocorticoid receptor  single protein  homo sapiens   \n",
       "\n",
       "           activity thresholds  \n",
       "0  Nuclear receptor (<= 100nM)  \n",
       "1  Nuclear receptor (<= 100nM)  \n",
       "2  Nuclear receptor (<= 100nM)  \n",
       "3  Nuclear receptor (<= 100nM)  \n",
       "4  Nuclear receptor (<= 100nM)  \n",
       "5  Nuclear receptor (<= 100nM)  "
      ]
     },
     "execution_count": 5,
     "metadata": {},
     "output_type": "execute_result"
    }
   ],
   "source": [
    "chembl_list"
   ]
  },
  {
   "cell_type": "code",
   "execution_count": 6,
   "metadata": {},
   "outputs": [],
   "source": [
    "concatenated_chembl_target_compounds, warning = chembl_extraction.concatenate_dataframes_from_different_chembl_ids(chembl_list)"
   ]
  },
  {
   "cell_type": "code",
   "execution_count": 7,
   "metadata": {},
   "outputs": [],
   "source": [
    "concatenated_chembl_target_compounds.loc[:,'pchembl_value'] = concatenated_chembl_target_compounds.loc[:,'pchembl_value'].astype(float)"
   ]
  },
  {
   "cell_type": "code",
   "execution_count": 8,
   "metadata": {},
   "outputs": [
    {
     "data": {
      "text/html": [
       "<div>\n",
       "<style scoped>\n",
       "    .dataframe tbody tr th:only-of-type {\n",
       "        vertical-align: middle;\n",
       "    }\n",
       "\n",
       "    .dataframe tbody tr th {\n",
       "        vertical-align: top;\n",
       "    }\n",
       "\n",
       "    .dataframe thead th {\n",
       "        text-align: right;\n",
       "    }\n",
       "</style>\n",
       "<table border=\"1\" class=\"dataframe\">\n",
       "  <thead>\n",
       "    <tr style=\"text-align: right;\">\n",
       "      <th></th>\n",
       "      <th>assay_description</th>\n",
       "      <th>molecule_chembl_id</th>\n",
       "      <th>molecule_pref_name</th>\n",
       "      <th>canonical_smiles</th>\n",
       "      <th>pchembl_value</th>\n",
       "      <th>standard_type</th>\n",
       "      <th>standard_relation</th>\n",
       "      <th>standard_value</th>\n",
       "      <th>standard_units</th>\n",
       "      <th>target_pref_name</th>\n",
       "      <th>target_organism</th>\n",
       "      <th>chembl_id</th>\n",
       "    </tr>\n",
       "  </thead>\n",
       "  <tbody>\n",
       "    <tr>\n",
       "      <th>0</th>\n",
       "      <td>Inhibition of DHT binding to human androgen re...</td>\n",
       "      <td>CHEMBL134277</td>\n",
       "      <td>None</td>\n",
       "      <td>CC1=CC(C)(C)Nc2ccc3c(c21)/C(=C/c1ccsc1)Oc1ccc(...</td>\n",
       "      <td>6.17</td>\n",
       "      <td>Ki</td>\n",
       "      <td>=</td>\n",
       "      <td>669.0</td>\n",
       "      <td>nM</td>\n",
       "      <td>Androgen Receptor</td>\n",
       "      <td>Homo sapiens</td>\n",
       "      <td>CHEMBL1871</td>\n",
       "    </tr>\n",
       "    <tr>\n",
       "      <th>1</th>\n",
       "      <td>Inhibition of human androgen receptor at 10e-1...</td>\n",
       "      <td>CHEMBL134277</td>\n",
       "      <td>None</td>\n",
       "      <td>CC1=CC(C)(C)Nc2ccc3c(c21)/C(=C/c1ccsc1)Oc1ccc(...</td>\n",
       "      <td>6.67</td>\n",
       "      <td>IC50</td>\n",
       "      <td>=</td>\n",
       "      <td>215.0</td>\n",
       "      <td>nM</td>\n",
       "      <td>Androgen Receptor</td>\n",
       "      <td>Homo sapiens</td>\n",
       "      <td>CHEMBL1871</td>\n",
       "    </tr>\n",
       "    <tr>\n",
       "      <th>2</th>\n",
       "      <td>Inhibition of 1.0 nM [3H]mibolerone binding to...</td>\n",
       "      <td>CHEMBL146794</td>\n",
       "      <td>None</td>\n",
       "      <td>CC1(C)C(=O)N(c2ccc(C#N)c(C(F)(F)F)c2)C(=O)N1CC...</td>\n",
       "      <td>7.11</td>\n",
       "      <td>IC50</td>\n",
       "      <td>=</td>\n",
       "      <td>77.0</td>\n",
       "      <td>nM</td>\n",
       "      <td>Androgen Receptor</td>\n",
       "      <td>Homo sapiens</td>\n",
       "      <td>CHEMBL1871</td>\n",
       "    </tr>\n",
       "    <tr>\n",
       "      <th>3</th>\n",
       "      <td>Inhibition of DHT binding to human androgen re...</td>\n",
       "      <td>CHEMBL415524</td>\n",
       "      <td>None</td>\n",
       "      <td>CCc1ccccc1/C=C1\\Oc2ccc(F)cc2-c2ccc3c(c21)C(C)=...</td>\n",
       "      <td>5.80</td>\n",
       "      <td>Ki</td>\n",
       "      <td>=</td>\n",
       "      <td>1589.0</td>\n",
       "      <td>nM</td>\n",
       "      <td>Androgen Receptor</td>\n",
       "      <td>Homo sapiens</td>\n",
       "      <td>CHEMBL1871</td>\n",
       "    </tr>\n",
       "    <tr>\n",
       "      <th>4</th>\n",
       "      <td>Inhibition of 1.0 nM [3H]mibolerone binding to...</td>\n",
       "      <td>CHEMBL2112885</td>\n",
       "      <td>None</td>\n",
       "      <td>COc1cccc2c1C(=O)c1c(O)c3c(c(O)c1C2=O)C[C@@](O)...</td>\n",
       "      <td>7.05</td>\n",
       "      <td>IC50</td>\n",
       "      <td>=</td>\n",
       "      <td>90.0</td>\n",
       "      <td>nM</td>\n",
       "      <td>Androgen Receptor</td>\n",
       "      <td>Homo sapiens</td>\n",
       "      <td>CHEMBL1871</td>\n",
       "    </tr>\n",
       "  </tbody>\n",
       "</table>\n",
       "</div>"
      ],
      "text/plain": [
       "                                   assay_description molecule_chembl_id  \\\n",
       "0  Inhibition of DHT binding to human androgen re...       CHEMBL134277   \n",
       "1  Inhibition of human androgen receptor at 10e-1...       CHEMBL134277   \n",
       "2  Inhibition of 1.0 nM [3H]mibolerone binding to...       CHEMBL146794   \n",
       "3  Inhibition of DHT binding to human androgen re...       CHEMBL415524   \n",
       "4  Inhibition of 1.0 nM [3H]mibolerone binding to...      CHEMBL2112885   \n",
       "\n",
       "  molecule_pref_name                                   canonical_smiles  \\\n",
       "0               None  CC1=CC(C)(C)Nc2ccc3c(c21)/C(=C/c1ccsc1)Oc1ccc(...   \n",
       "1               None  CC1=CC(C)(C)Nc2ccc3c(c21)/C(=C/c1ccsc1)Oc1ccc(...   \n",
       "2               None  CC1(C)C(=O)N(c2ccc(C#N)c(C(F)(F)F)c2)C(=O)N1CC...   \n",
       "3               None  CCc1ccccc1/C=C1\\Oc2ccc(F)cc2-c2ccc3c(c21)C(C)=...   \n",
       "4               None  COc1cccc2c1C(=O)c1c(O)c3c(c(O)c1C2=O)C[C@@](O)...   \n",
       "\n",
       "   pchembl_value standard_type standard_relation standard_value  \\\n",
       "0           6.17            Ki                 =          669.0   \n",
       "1           6.67          IC50                 =          215.0   \n",
       "2           7.11          IC50                 =           77.0   \n",
       "3           5.80            Ki                 =         1589.0   \n",
       "4           7.05          IC50                 =           90.0   \n",
       "\n",
       "  standard_units   target_pref_name target_organism   chembl_id  \n",
       "0             nM  Androgen Receptor    Homo sapiens  CHEMBL1871  \n",
       "1             nM  Androgen Receptor    Homo sapiens  CHEMBL1871  \n",
       "2             nM  Androgen Receptor    Homo sapiens  CHEMBL1871  \n",
       "3             nM  Androgen Receptor    Homo sapiens  CHEMBL1871  \n",
       "4             nM  Androgen Receptor    Homo sapiens  CHEMBL1871  "
      ]
     },
     "execution_count": 8,
     "metadata": {},
     "output_type": "execute_result"
    }
   ],
   "source": [
    "concatenated_chembl_target_compounds.head()"
   ]
  },
  {
   "cell_type": "markdown",
   "metadata": {},
   "source": [
    "## Step 2: curate the data structures"
   ]
  },
  {
   "cell_type": "code",
   "execution_count": 9,
   "metadata": {},
   "outputs": [],
   "source": [
    "def curate_data(dataframe, structure_column, remove_problematic=False) -> pd.DataFrame:\n",
    "    \"\"\"\n",
    "        Check SMILES column to get a curated SMILES and the type of substance.\n",
    "\n",
    "        :return curated_data: dataframe containing the curated information\n",
    "    \"\"\"\n",
    "\n",
    "    from curate.chem import structure_curation as cur\n",
    "    data_cur = cur.Curator()\n",
    "\n",
    "    curated_data = dataframe\n",
    "\n",
    "    for i, row in curated_data.iterrows():\n",
    "        smi = row[structure_column]\n",
    "        data_cur.get_rdkit_mol(smi)\n",
    "        sub_type, san_smi = data_cur.filter_smiles()\n",
    "        curated_data.loc[curated_data.index == i,'structure_curated'] = san_smi\n",
    "        curated_data.loc[curated_data.index == i,'substance_type_name'] = sub_type\n",
    "\n",
    "    if remove_problematic:\n",
    "        curated_data, problematic_structures = remove_problematic_structures(curated_data)\n",
    "    \n",
    "    return curated_data\n",
    "\n",
    "def remove_problematic_structures(dataframe) -> pd.DataFrame:\n",
    "    \"\"\"\n",
    "        Remove problematic structures from main dataset.\n",
    "        Returns cleaned dataset and problematic structures a part.\n",
    "\n",
    "        :param data: input data to be cleaned\n",
    "\n",
    "        :return curated_data: data without problematic structures\n",
    "        :return problematic_structures: data with the problematic structures\n",
    "    \"\"\"\n",
    "\n",
    "    problem_struc_list =  ['organometallic', 'no_sanitizable', 'inorganic_salt', \n",
    "                          'inorganic', 'inorganic_metal', 'no_sanitizable_organic',\n",
    "                          'no_sanitizable_inorganic', 'no_sanitizable_organometallic']\n",
    "\n",
    "    curated_data = dataframe.loc[~dataframe['substance_type_name'].isin(problem_struc_list)]\n",
    "    problematic_structures = dataframe.loc[dataframe['substance_type_name'].isin(problem_struc_list)]\n",
    "\n",
    "    return curated_data, problematic_structures"
   ]
  },
  {
   "cell_type": "code",
   "execution_count": 10,
   "metadata": {},
   "outputs": [],
   "source": [
    "curdata = curate_data(concatenated_chembl_target_compounds, 'canonical_smiles',remove_problematic=True)"
   ]
  },
  {
   "cell_type": "markdown",
   "metadata": {},
   "source": [
    "## Step 3: split dataframe in the initial ChEMBL IDs and create one sdf for each"
   ]
  },
  {
   "cell_type": "code",
   "execution_count": 11,
   "metadata": {},
   "outputs": [],
   "source": [
    "from curate.util import utils\n",
    "from rdkit import Chem\n",
    "from rdkit.Chem import Descriptors"
   ]
  },
  {
   "cell_type": "code",
   "execution_count": 12,
   "metadata": {},
   "outputs": [],
   "source": [
    "for i, row in curdata.iterrows():\n",
    "    smiles = row['structure_curated']\n",
    "    m = Chem.MolFromSmiles(smiles)\n",
    "    logp = Descriptors.MolLogP(m)\n",
    "    mol_weight = Descriptors.MolWt(m)\n",
    "    num_heavy_atoms = Descriptors.HeavyAtomCount(m)\n",
    "    curdata.loc[curdata.index == i, 'logP'] = logp\n",
    "    curdata.loc[curdata.index == i, 'MW'] = mol_weight\n",
    "    curdata.loc[curdata.index == i, 'heavy_atoms'] = num_heavy_atoms"
   ]
  },
  {
   "cell_type": "code",
   "execution_count": 13,
   "metadata": {},
   "outputs": [],
   "source": [
    "chembl_ids = curdata.chembl_id.unique()"
   ]
  },
  {
   "cell_type": "markdown",
   "metadata": {},
   "source": [
    "#### Set the filter variables\n",
    "- max_mw: sets the top limit of the MW to filter. Anything above this will be discarded\n",
    "- min_mw: sets the minimum limit of MW. Anything below this will be discarded\n",
    "- assay_type: selects the type of ChEMBL assay to use. User can choose between 'EC50', 'IC50', 'Ki', 'Kd'. Or it can also check manually the standard_type column and see which options are there.\n",
    "- activity threshold: as suggested in IDG (https://druggablegenome.net/ProteinFam) the activity threshold is set to generate a qualitative set of active/non-active targets at a certain concentration value. Thresholds are the following, depending on the target family. Less or equal to the threshold means inactive and larger than the threshold active:\n",
    "    - Kinases: 30nM -> -log(30*10^⁻9) = 7,52\n",
    "    - GPCRs: 100nM -> -log(100*10^-9) = 7\n",
    "    - Nuclear Receptors: 100nM -> -log(100*10^-9) = 7\n",
    "    - Ion Channels: 10μM -> -log(10*10^-6) = 5\n",
    "    - Non-IDG Family Targets: 1μM -> -log(1*10^-6) = 6\n"
   ]
  },
  {
   "cell_type": "code",
   "execution_count": 14,
   "metadata": {},
   "outputs": [],
   "source": [
    "max_mw = 500\n",
    "min_mw = 100\n",
    "assay_type = 'IC50'\n",
    "activity_threshold = 7"
   ]
  },
  {
   "cell_type": "code",
   "execution_count": 15,
   "metadata": {},
   "outputs": [],
   "source": [
    "dict_of_frames = {}"
   ]
  },
  {
   "cell_type": "code",
   "execution_count": 16,
   "metadata": {},
   "outputs": [],
   "source": [
    "for chembl_id in chembl_ids:\n",
    "    df_ = curdata.loc[(curdata['chembl_id'] == chembl_id) &\n",
    "                     (curdata['MW'] <= max_mw) &\n",
    "                     (curdata['MW'] > min_mw) &\n",
    "                     (curdata['standard_type'] == assay_type)]\n",
    "    \n",
    "    df_.loc[df_['pchembl_value'] <= activity_threshold, 'activity'] = 0\n",
    "    df_.loc[df_['pchembl_value'] > activity_threshold, 'activity'] = 1\n",
    "    dict_of_frames[chembl_id] = df_\n",
    "    utils.write_sdf(data=df_, outfile_name=chembl_id, smiles_column='structure_curated', identifier='molecule_chembl_id')"
   ]
  },
  {
   "cell_type": "markdown",
   "metadata": {},
   "source": [
    "#### Step 4: Use the dictionary of Dataframes to study the imbalance and apply oversampling to the underrepresented class"
   ]
  },
  {
   "cell_type": "code",
   "execution_count": null,
   "metadata": {},
   "outputs": [],
   "source": []
  }
 ],
 "metadata": {
  "kernelspec": {
   "display_name": "Python 3",
   "language": "python",
   "name": "python3"
  },
  "language_info": {
   "codemirror_mode": {
    "name": "ipython",
    "version": 3
   },
   "file_extension": ".py",
   "mimetype": "text/x-python",
   "name": "python",
   "nbconvert_exporter": "python",
   "pygments_lexer": "ipython3",
   "version": "3.9.13"
  }
 },
 "nbformat": 4,
 "nbformat_minor": 4
}
